{
  "nbformat": 4,
  "nbformat_minor": 0,
  "metadata": {
    "colab": {
      "provenance": [],
      "authorship_tag": "ABX9TyMhoR8OBzP2hLSRGgjwHcRN",
      "include_colab_link": true
    },
    "kernelspec": {
      "name": "python3",
      "display_name": "Python 3"
    },
    "language_info": {
      "name": "python"
    }
  },
  "cells": [
    {
      "cell_type": "markdown",
      "metadata": {
        "id": "view-in-github",
        "colab_type": "text"
      },
      "source": [
        "<a href=\"https://colab.research.google.com/github/srilakshmi-2003/DLT-LAB/blob/main/srilakshmi-2003/DLT-LAB/Multiclass_classification_using_Reuters_Newswire_Dataset.ipynb\" target=\"_parent\"><img src=\"https://colab.research.google.com/assets/colab-badge.svg\" alt=\"Open In Colab\"/></a>"
      ]
    },
    {
      "cell_type": "code",
      "execution_count": null,
      "metadata": {
        "id": "qn_xGDh1GvOW"
      },
      "outputs": [],
      "source": [
        "import tensorflow as tf\n",
        "import numpy as np\n",
        "from keras.datasets import reuters"
      ]
    },
    {
      "cell_type": "code",
      "source": [
        "(train_X, train_Y), (test_X, test_Y) = reuters.load_data(num_words=10000)"
      ],
      "metadata": {
        "colab": {
          "base_uri": "https://localhost:8080/"
        },
        "id": "iYUTOGTsHGzz",
        "outputId": "734357f8-305f-444d-d6a0-a624c5e22bd8"
      },
      "execution_count": null,
      "outputs": [
        {
          "output_type": "stream",
          "name": "stdout",
          "text": [
            "Downloading data from https://storage.googleapis.com/tensorflow/tf-keras-datasets/reuters.npz\n",
            "2110848/2110848 [==============================] - 0s 0us/step\n"
          ]
        }
      ]
    },
    {
      "cell_type": "code",
      "source": [
        "import numpy as np\n",
        "from keras.utils import to_categorical\n",
        "\n",
        "def OneHotEncoding_fn(ReutersData, dimension=10000):\n",
        "    # 8982 x 10k matrix of zeros\n",
        "    OneHotEncoded_Data = np.zeros((len(ReutersData), dimension))\n",
        "    for i, sequence in enumerate(ReutersData):\n",
        "        #Selectively make indices as 1 based on availability of word in the review.\n",
        "        OneHotEncoded_Data[i, sequence] = 1.\n",
        "    return OneHotEncoded_Data\n",
        "\n",
        "x_train = OneHotEncoding_fn(train_X)\n",
        "x_test = OneHotEncoding_fn(test_X)\n",
        "\n",
        "y_train = to_categorical(train_Y)\n",
        "y_test = to_categorical(test_Y)"
      ],
      "metadata": {
        "id": "Lz6O5JFwHOE4"
      },
      "execution_count": null,
      "outputs": []
    },
    {
      "cell_type": "code",
      "source": [
        "from keras import models\n",
        "from keras import layers\n",
        "from keras import regularizers\n",
        "\n",
        "model = models.Sequential()\n",
        "#model.add(layers.Dense(64, activation='relu', input_shape=(10000,)))\n",
        "#model.add(layers.Dense(64, kernel_regularizer=regularizers.l1(0.001), activation='relu', input_shape=(10000,)))\n",
        "#model.add(layers.Dense(64, kernel_regularizer=regularizers.l2(0.01), activation='relu', input_shape=(10000,)))\n",
        "model.add(layers.Dense(64, kernel_regularizer=regularizers.l1_l2(l1=0.001, l2=0.01), activation='relu', input_shape=(10000,)))\n",
        "\n",
        "#model.add(layers.Dense(64, activation='relu'))\n",
        "#model.add(layers.Dense(64, kernel_regularizer=regularizers.l1(0.001), activation='relu'))\n",
        "#model.add(layers.Dense(64, kernel_regularizer=regularizers.l2(0.01), activation='relu'))\n",
        "model.add(layers.Dense(64, kernel_regularizer=regularizers.l1_l2(l1=0.001, l2=0.01), activation='relu'))\n",
        "\n",
        "model.add(layers.Dense(46, activation='softmax'))"
      ],
      "metadata": {
        "id": "JeJgbHWBHTbF"
      },
      "execution_count": null,
      "outputs": []
    },
    {
      "cell_type": "code",
      "source": [
        "from keras import optimizers\n",
        "from keras import losses\n",
        "from keras import metrics\n",
        "\n",
        "X_validation = x_train[:800]\n",
        "X_train_without_val = x_train[800:]\n",
        "y_validation = y_train[:800]\n",
        "y_train_without_val = y_train[800:]\n",
        "\n",
        "\n",
        "model.compile(optimizer=optimizers.RMSprop(learning_rate=0.001, rho=0.9),\n",
        "             loss=losses.categorical_crossentropy,\n",
        "             metrics=[metrics.categorical_accuracy])\n",
        "\n",
        "history = model.fit(X_train_without_val,\n",
        "                    y_train_without_val,\n",
        "                    epochs=25,\n",
        "                    batch_size=512,\n",
        "                    validation_data=(X_validation,y_validation))"
      ],
      "metadata": {
        "colab": {
          "base_uri": "https://localhost:8080/"
        },
        "id": "OIjpfNrOHae2",
        "outputId": "25ce83b3-e76e-4721-fa98-d634a181fb9b"
      },
      "execution_count": null,
      "outputs": [
        {
          "output_type": "stream",
          "name": "stdout",
          "text": [
            "Epoch 1/25\n",
            "16/16 [==============================] - 2s 81ms/step - loss: 7.2361 - categorical_accuracy: 0.4851 - val_loss: 3.7129 - val_categorical_accuracy: 0.5688\n",
            "Epoch 2/25\n",
            "16/16 [==============================] - 1s 87ms/step - loss: 3.3743 - categorical_accuracy: 0.5768 - val_loss: 3.0886 - val_categorical_accuracy: 0.6087\n",
            "Epoch 3/25\n",
            "16/16 [==============================] - 2s 115ms/step - loss: 3.0316 - categorical_accuracy: 0.6171 - val_loss: 2.8595 - val_categorical_accuracy: 0.6187\n",
            "Epoch 4/25\n",
            "16/16 [==============================] - 2s 102ms/step - loss: 2.8366 - categorical_accuracy: 0.6408 - val_loss: 2.7039 - val_categorical_accuracy: 0.6725\n",
            "Epoch 5/25\n",
            "16/16 [==============================] - 2s 96ms/step - loss: 2.7005 - categorical_accuracy: 0.6619 - val_loss: 2.5872 - val_categorical_accuracy: 0.6775\n",
            "Epoch 6/25\n",
            "16/16 [==============================] - 2s 100ms/step - loss: 2.5906 - categorical_accuracy: 0.6674 - val_loss: 2.5006 - val_categorical_accuracy: 0.6800\n",
            "Epoch 7/25\n",
            "16/16 [==============================] - 2s 104ms/step - loss: 2.4915 - categorical_accuracy: 0.6811 - val_loss: 2.4041 - val_categorical_accuracy: 0.6800\n",
            "Epoch 8/25\n",
            "16/16 [==============================] - 2s 103ms/step - loss: 2.4129 - categorical_accuracy: 0.6863 - val_loss: 2.3330 - val_categorical_accuracy: 0.6862\n",
            "Epoch 9/25\n",
            "16/16 [==============================] - 2s 96ms/step - loss: 2.3430 - categorical_accuracy: 0.6921 - val_loss: 2.2731 - val_categorical_accuracy: 0.6913\n",
            "Epoch 10/25\n",
            "16/16 [==============================] - 2s 149ms/step - loss: 2.2843 - categorical_accuracy: 0.6930 - val_loss: 2.2265 - val_categorical_accuracy: 0.6913\n",
            "Epoch 11/25\n",
            "16/16 [==============================] - 1s 75ms/step - loss: 2.2300 - categorical_accuracy: 0.6979 - val_loss: 2.1951 - val_categorical_accuracy: 0.6888\n",
            "Epoch 12/25\n",
            "16/16 [==============================] - 1s 52ms/step - loss: 2.1888 - categorical_accuracy: 0.6957 - val_loss: 2.1623 - val_categorical_accuracy: 0.6975\n",
            "Epoch 13/25\n",
            "16/16 [==============================] - 1s 54ms/step - loss: 2.1497 - categorical_accuracy: 0.7007 - val_loss: 2.1100 - val_categorical_accuracy: 0.6938\n",
            "Epoch 14/25\n",
            "16/16 [==============================] - 1s 52ms/step - loss: 2.1242 - categorical_accuracy: 0.6984 - val_loss: 2.0975 - val_categorical_accuracy: 0.6950\n",
            "Epoch 15/25\n",
            "16/16 [==============================] - 1s 52ms/step - loss: 2.0948 - categorical_accuracy: 0.6982 - val_loss: 2.0532 - val_categorical_accuracy: 0.6963\n",
            "Epoch 16/25\n",
            "16/16 [==============================] - 1s 56ms/step - loss: 2.0630 - categorical_accuracy: 0.7053 - val_loss: 2.0469 - val_categorical_accuracy: 0.6988\n",
            "Epoch 17/25\n",
            "16/16 [==============================] - 1s 50ms/step - loss: 2.0512 - categorical_accuracy: 0.7042 - val_loss: 2.0284 - val_categorical_accuracy: 0.7013\n",
            "Epoch 18/25\n",
            "16/16 [==============================] - 1s 52ms/step - loss: 2.0227 - categorical_accuracy: 0.7080 - val_loss: 1.9975 - val_categorical_accuracy: 0.7000\n",
            "Epoch 19/25\n",
            "16/16 [==============================] - 1s 53ms/step - loss: 2.0065 - categorical_accuracy: 0.7081 - val_loss: 1.9747 - val_categorical_accuracy: 0.7038\n",
            "Epoch 20/25\n",
            "16/16 [==============================] - 1s 51ms/step - loss: 1.9881 - categorical_accuracy: 0.7099 - val_loss: 1.9698 - val_categorical_accuracy: 0.7038\n",
            "Epoch 21/25\n",
            "16/16 [==============================] - 1s 50ms/step - loss: 1.9712 - categorical_accuracy: 0.7085 - val_loss: 1.9465 - val_categorical_accuracy: 0.7050\n",
            "Epoch 22/25\n",
            "16/16 [==============================] - 1s 51ms/step - loss: 1.9594 - categorical_accuracy: 0.7097 - val_loss: 1.9656 - val_categorical_accuracy: 0.6988\n",
            "Epoch 23/25\n",
            "16/16 [==============================] - 1s 66ms/step - loss: 1.9497 - categorical_accuracy: 0.7108 - val_loss: 1.9282 - val_categorical_accuracy: 0.7163\n",
            "Epoch 24/25\n",
            "16/16 [==============================] - 2s 94ms/step - loss: 1.9228 - categorical_accuracy: 0.7158 - val_loss: 1.9446 - val_categorical_accuracy: 0.7100\n",
            "Epoch 25/25\n",
            "16/16 [==============================] - 1s 73ms/step - loss: 1.9193 - categorical_accuracy: 0.7156 - val_loss: 1.9166 - val_categorical_accuracy: 0.7113\n"
          ]
        }
      ]
    },
    {
      "cell_type": "code",
      "source": [
        "import matplotlib.pyplot as plt\n",
        "\n",
        "history_dict = history.history\n",
        "loss_values = history_dict['loss']\n",
        "val_loss_values = history_dict['val_loss']\n",
        "\n",
        "epochs = range(1, len(loss_values) + 1)\n",
        "\n",
        "plt.plot(epochs, loss_values, 'g--', label='Training loss')\n",
        "plt.plot(epochs, val_loss_values, 'r', label='Validation loss')\n",
        "plt.title('Training and validation loss')\n",
        "plt.xlabel('Epochs')\n",
        "plt.ylabel('Loss')\n",
        "plt.legend()\n",
        "\n",
        "plt.show()"
      ],
      "metadata": {
        "colab": {
          "base_uri": "https://localhost:8080/",
          "height": 472
        },
        "id": "jZVOfpBsHmda",
        "outputId": "5e7450dd-63e2-4301-e637-90ae451edfd7"
      },
      "execution_count": null,
      "outputs": [
        {
          "output_type": "display_data",
          "data": {
            "text/plain": [
              "<Figure size 640x480 with 1 Axes>"
            ],
            "image/png": "[encoded data removed]"
          },
          "metadata": {}
        }
      ]
    }
  ]
}